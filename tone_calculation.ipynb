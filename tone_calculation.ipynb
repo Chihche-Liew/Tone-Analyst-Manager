{
 "cells": [
  {
   "cell_type": "code",
   "id": "initial_id",
   "metadata": {
    "collapsed": true,
    "ExecuteTime": {
     "end_time": "2025-09-06T15:42:15.772119Z",
     "start_time": "2025-09-06T15:42:15.724519Z"
    }
   },
   "source": [
    "# Following https://link.springer.com/article/10.1007/s11142-023-09764-x\n",
    "import re\n",
    "import numpy as np\n",
    "import pandas as pd\n",
    "import duckdb as db\n",
    "import datetime as dt\n",
    "from tqdm.notebook import tqdm\n",
    "from collections import Counter\n",
    "tqdm.pandas()"
   ],
   "outputs": [],
   "execution_count": 1
  },
  {
   "metadata": {
    "ExecuteTime": {
     "end_time": "2025-09-06T15:49:35.576244Z",
     "start_time": "2025-09-06T15:42:21.546644Z"
    }
   },
   "cell_type": "code",
   "source": [
    "detail = pd.read_pickle('./wrds_transcript_detail.pkl', compression='zip')\n",
    "component = pd.read_pickle('./transcript_ea.pkl', compression='zip')\n",
    "lm = pd.read_csv('./Loughran-McDonald_MasterDictionary_1993-2024.csv')"
   ],
   "id": "b48c9b605a24788b",
   "outputs": [],
   "execution_count": 2
  },
  {
   "metadata": {
    "ExecuteTime": {
     "end_time": "2025-09-02T03:12:35.391697Z",
     "start_time": "2025-09-02T03:04:48.481347Z"
    }
   },
   "cell_type": "code",
   "source": [
    "component = db.query(\n",
    "    \"\"\"\n",
    "    SELECT\n",
    "      transcriptid,\n",
    "      transcriptcomponenttypeid,\n",
    "      STRING_AGG(componenttext, ' ') AS componenttext\n",
    "    FROM component\n",
    "    WHERE transcriptcomponenttypeid IN (3, 4)\n",
    "    GROUP BY transcriptid, transcriptcomponenttypeid\n",
    "    \"\"\"\n",
    ").df()\n",
    "component['componenttext'] = component['componenttext'].progress_apply(\n",
    "    lambda x: re.sub(\n",
    "        r'\\s+', ' ',\n",
    "        re.sub(\n",
    "            r'[^\\w\\s]', ' ',\n",
    "            x.encode('utf-8', 'ignore').decode('unicode_escape', errors='ignore')\n",
    "        )\n",
    "    ).lower()\n",
    ")\n",
    "component = db.query(\n",
    "    \"\"\"\n",
    "    select distinct a.*, b.mostimportantdateutc, b.mostimportanttimeutc, b.companyid\n",
    "    from component as a\n",
    "    inner join detail as b\n",
    "    on a.transcriptid = b.transcriptid\n",
    "    /* consider all conference matched as earnings call */\n",
    "    /* where b.keydeveventtypename = 'Earnings Calls' */\n",
    "    \"\"\"\n",
    ").df()"
   ],
   "id": "1d3a74eb07afae14",
   "outputs": [
    {
     "data": {
      "text/plain": [
       "FloatProgress(value=0.0, layout=Layout(width='auto'), style=ProgressStyle(bar_color='black'))"
      ],
      "application/vnd.jupyter.widget-view+json": {
       "version_major": 2,
       "version_minor": 0,
       "model_id": "542bd74a3a3842aeb0c3f7e36f60ea77"
      }
     },
     "metadata": {},
     "output_type": "display_data"
    },
    {
     "data": {
      "text/plain": [
       "  0%|          | 0/595953 [00:00<?, ?it/s]"
      ],
      "application/vnd.jupyter.widget-view+json": {
       "version_major": 2,
       "version_minor": 0,
       "model_id": "df3c870e80ed4a99a717a665d85df718"
      }
     },
     "metadata": {},
     "output_type": "display_data"
    },
    {
     "name": "stderr",
     "output_type": "stream",
     "text": [
      "C:\\Users\\Zhizhe Liu\\AppData\\Local\\Temp\\ipykernel_30296\\3129596414.py:17: DeprecationWarning: invalid escape sequence '\\s'\n",
      "  x.encode('utf-8', 'ignore').decode('unicode_escape', errors='ignore')\n",
      "C:\\Users\\Zhizhe Liu\\AppData\\Local\\Temp\\ipykernel_30296\\3129596414.py:17: DeprecationWarning: invalid escape sequence '\\h'\n",
      "  x.encode('utf-8', 'ignore').decode('unicode_escape', errors='ignore')\n",
      "C:\\Users\\Zhizhe Liu\\AppData\\Local\\Temp\\ipykernel_30296\\3129596414.py:17: DeprecationWarning: invalid escape sequence '\\A'\n",
      "  x.encode('utf-8', 'ignore').decode('unicode_escape', errors='ignore')\n",
      "C:\\Users\\Zhizhe Liu\\AppData\\Local\\Temp\\ipykernel_30296\\3129596414.py:17: DeprecationWarning: invalid escape sequence '\\.'\n",
      "  x.encode('utf-8', 'ignore').decode('unicode_escape', errors='ignore')\n",
      "C:\\Users\\Zhizhe Liu\\AppData\\Local\\Temp\\ipykernel_30296\\3129596414.py:17: DeprecationWarning: invalid escape sequence '\\i'\n",
      "  x.encode('utf-8', 'ignore').decode('unicode_escape', errors='ignore')\n",
      "C:\\Users\\Zhizhe Liu\\AppData\\Local\\Temp\\ipykernel_30296\\3129596414.py:17: DeprecationWarning: invalid escape sequence '\\m'\n",
      "  x.encode('utf-8', 'ignore').decode('unicode_escape', errors='ignore')\n",
      "C:\\Users\\Zhizhe Liu\\AppData\\Local\\Temp\\ipykernel_30296\\3129596414.py:17: DeprecationWarning: invalid escape sequence '\\c'\n",
      "  x.encode('utf-8', 'ignore').decode('unicode_escape', errors='ignore')\n",
      "C:\\Users\\Zhizhe Liu\\AppData\\Local\\Temp\\ipykernel_30296\\3129596414.py:17: DeprecationWarning: invalid escape sequence '\\G'\n",
      "  x.encode('utf-8', 'ignore').decode('unicode_escape', errors='ignore')\n",
      "C:\\Users\\Zhizhe Liu\\AppData\\Local\\Temp\\ipykernel_30296\\3129596414.py:17: DeprecationWarning: invalid escape sequence '\\Q'\n",
      "  x.encode('utf-8', 'ignore').decode('unicode_escape', errors='ignore')\n",
      "C:\\Users\\Zhizhe Liu\\AppData\\Local\\Temp\\ipykernel_30296\\3129596414.py:17: DeprecationWarning: invalid escape sequence '\\9'\n",
      "  x.encode('utf-8', 'ignore').decode('unicode_escape', errors='ignore')\n",
      "C:\\Users\\Zhizhe Liu\\AppData\\Local\\Temp\\ipykernel_30296\\3129596414.py:17: DeprecationWarning: invalid escape sequence '\\e'\n",
      "  x.encode('utf-8', 'ignore').decode('unicode_escape', errors='ignore')\n",
      "C:\\Users\\Zhizhe Liu\\AppData\\Local\\Temp\\ipykernel_30296\\3129596414.py:17: DeprecationWarning: invalid escape sequence '\\g'\n",
      "  x.encode('utf-8', 'ignore').decode('unicode_escape', errors='ignore')\n",
      "C:\\Users\\Zhizhe Liu\\AppData\\Local\\Temp\\ipykernel_30296\\3129596414.py:17: DeprecationWarning: invalid escape sequence '\\l'\n",
      "  x.encode('utf-8', 'ignore').decode('unicode_escape', errors='ignore')\n",
      "C:\\Users\\Zhizhe Liu\\AppData\\Local\\Temp\\ipykernel_30296\\3129596414.py:17: DeprecationWarning: invalid escape sequence '\\ '\n",
      "  x.encode('utf-8', 'ignore').decode('unicode_escape', errors='ignore')\n",
      "C:\\Users\\Zhizhe Liu\\AppData\\Local\\Temp\\ipykernel_30296\\3129596414.py:17: DeprecationWarning: invalid escape sequence '\\C'\n",
      "  x.encode('utf-8', 'ignore').decode('unicode_escape', errors='ignore')\n",
      "C:\\Users\\Zhizhe Liu\\AppData\\Local\\Temp\\ipykernel_30296\\3129596414.py:17: DeprecationWarning: invalid escape sequence '\\R'\n",
      "  x.encode('utf-8', 'ignore').decode('unicode_escape', errors='ignore')\n",
      "C:\\Users\\Zhizhe Liu\\AppData\\Local\\Temp\\ipykernel_30296\\3129596414.py:17: DeprecationWarning: invalid escape sequence '\\D'\n",
      "  x.encode('utf-8', 'ignore').decode('unicode_escape', errors='ignore')\n",
      "C:\\Users\\Zhizhe Liu\\AppData\\Local\\Temp\\ipykernel_30296\\3129596414.py:17: DeprecationWarning: invalid escape sequence '\\V'\n",
      "  x.encode('utf-8', 'ignore').decode('unicode_escape', errors='ignore')\n",
      "C:\\Users\\Zhizhe Liu\\AppData\\Local\\Temp\\ipykernel_30296\\3129596414.py:17: DeprecationWarning: invalid escape sequence '\\:'\n",
      "  x.encode('utf-8', 'ignore').decode('unicode_escape', errors='ignore')\n",
      "C:\\Users\\Zhizhe Liu\\AppData\\Local\\Temp\\ipykernel_30296\\3129596414.py:17: DeprecationWarning: invalid escape sequence '\\W'\n",
      "  x.encode('utf-8', 'ignore').decode('unicode_escape', errors='ignore')\n",
      "C:\\Users\\Zhizhe Liu\\AppData\\Local\\Temp\\ipykernel_30296\\3129596414.py:17: DeprecationWarning: invalid escape sequence '\\,'\n",
      "  x.encode('utf-8', 'ignore').decode('unicode_escape', errors='ignore')\n",
      "C:\\Users\\Zhizhe Liu\\AppData\\Local\\Temp\\ipykernel_30296\\3129596414.py:17: DeprecationWarning: invalid escape sequence '\\p'\n",
      "  x.encode('utf-8', 'ignore').decode('unicode_escape', errors='ignore')\n",
      "C:\\Users\\Zhizhe Liu\\AppData\\Local\\Temp\\ipykernel_30296\\3129596414.py:17: DeprecationWarning: invalid escape sequence '\\-'\n",
      "  x.encode('utf-8', 'ignore').decode('unicode_escape', errors='ignore')\n",
      "C:\\Users\\Zhizhe Liu\\AppData\\Local\\Temp\\ipykernel_30296\\3129596414.py:17: DeprecationWarning: invalid escape sequence '\\L'\n",
      "  x.encode('utf-8', 'ignore').decode('unicode_escape', errors='ignore')\n",
      "C:\\Users\\Zhizhe Liu\\AppData\\Local\\Temp\\ipykernel_30296\\3129596414.py:17: DeprecationWarning: invalid escape sequence '\\T'\n",
      "  x.encode('utf-8', 'ignore').decode('unicode_escape', errors='ignore')\n",
      "C:\\Users\\Zhizhe Liu\\AppData\\Local\\Temp\\ipykernel_30296\\3129596414.py:17: DeprecationWarning: invalid escape sequence '\\w'\n",
      "  x.encode('utf-8', 'ignore').decode('unicode_escape', errors='ignore')\n",
      "C:\\Users\\Zhizhe Liu\\AppData\\Local\\Temp\\ipykernel_30296\\3129596414.py:17: DeprecationWarning: invalid escape sequence '\\O'\n",
      "  x.encode('utf-8', 'ignore').decode('unicode_escape', errors='ignore')\n",
      "C:\\Users\\Zhizhe Liu\\AppData\\Local\\Temp\\ipykernel_30296\\3129596414.py:17: DeprecationWarning: invalid escape sequence '\\?'\n",
      "  x.encode('utf-8', 'ignore').decode('unicode_escape', errors='ignore')\n",
      "C:\\Users\\Zhizhe Liu\\AppData\\Local\\Temp\\ipykernel_30296\\3129596414.py:17: DeprecationWarning: invalid escape sequence '\\I'\n",
      "  x.encode('utf-8', 'ignore').decode('unicode_escape', errors='ignore')\n",
      "C:\\Users\\Zhizhe Liu\\AppData\\Local\\Temp\\ipykernel_30296\\3129596414.py:17: DeprecationWarning: invalid escape sequence '\\B'\n",
      "  x.encode('utf-8', 'ignore').decode('unicode_escape', errors='ignore')\n",
      "C:\\Users\\Zhizhe Liu\\AppData\\Local\\Temp\\ipykernel_30296\\3129596414.py:17: DeprecationWarning: invalid escape sequence '\\q'\n",
      "  x.encode('utf-8', 'ignore').decode('unicode_escape', errors='ignore')\n",
      "C:\\Users\\Zhizhe Liu\\AppData\\Local\\Temp\\ipykernel_30296\\3129596414.py:17: DeprecationWarning: invalid escape sequence '\\d'\n",
      "  x.encode('utf-8', 'ignore').decode('unicode_escape', errors='ignore')\n",
      "C:\\Users\\Zhizhe Liu\\AppData\\Local\\Temp\\ipykernel_30296\\3129596414.py:17: DeprecationWarning: invalid escape sequence '\\/'\n",
      "  x.encode('utf-8', 'ignore').decode('unicode_escape', errors='ignore')\n",
      "C:\\Users\\Zhizhe Liu\\AppData\\Local\\Temp\\ipykernel_30296\\3129596414.py:17: DeprecationWarning: invalid escape sequence '\\o'\n",
      "  x.encode('utf-8', 'ignore').decode('unicode_escape', errors='ignore')\n",
      "C:\\Users\\Zhizhe Liu\\AppData\\Local\\Temp\\ipykernel_30296\\3129596414.py:17: DeprecationWarning: invalid escape sequence '\\Y'\n",
      "  x.encode('utf-8', 'ignore').decode('unicode_escape', errors='ignore')\n"
     ]
    },
    {
     "data": {
      "text/plain": [
       "FloatProgress(value=0.0, layout=Layout(width='auto'), style=ProgressStyle(bar_color='black'))"
      ],
      "application/vnd.jupyter.widget-view+json": {
       "version_major": 2,
       "version_minor": 0,
       "model_id": "0981d8370e0a44c7827181fe8efe093d"
      }
     },
     "metadata": {},
     "output_type": "display_data"
    }
   ],
   "execution_count": 3
  },
  {
   "metadata": {
    "ExecuteTime": {
     "end_time": "2025-09-02T03:16:32.010901Z",
     "start_time": "2025-09-02T03:15:19.944871Z"
    }
   },
   "cell_type": "code",
   "source": [
    "component = component.sort_values(['transcriptid', 'transcriptcomponenttypeid'])\n",
    "component['mostimportantdatetimeutc'] = component['mostimportantdateutc'].astype(str) + ' ' + component['mostimportanttimeutc'].astype(str)\n",
    "component['mostimportantdatetimeest'] = pd.to_datetime(component['mostimportantdatetimeutc']).dt.tz_localize('UTC').dt.tz_convert('US/Eastern')\n",
    "component['mostimportantdatetimeest'] = component['mostimportantdatetimeest'].dt.tz_localize(None)\n",
    "component['mostimportantdateest'] = component['mostimportantdatetimeest'].dt.date\n",
    "component = component.drop(columns=['mostimportantdatetimeutc', 'mostimportantdateutc', 'mostimportanttimeutc'])\n",
    "component['year'] = component['mostimportantdatetimeest'].dt.year\n",
    "component['words'] = component['componenttext'].str.split()"
   ],
   "id": "70959e001d1a67ad",
   "outputs": [],
   "execution_count": 7
  },
  {
   "metadata": {
    "ExecuteTime": {
     "end_time": "2025-09-02T03:17:17.578164Z",
     "start_time": "2025-09-02T03:17:17.412524Z"
    }
   },
   "cell_type": "code",
   "source": [
    "lm = lm.loc[(lm['Positive'] > 0) | (lm['Negative'] > 0)]\n",
    "res = []\n",
    "for _, row in tqdm(lm.iterrows(), total=len(lm)):\n",
    "    if row['Positive'] == 0:\n",
    "        yr_added = row['Negative']\n",
    "        yr_range = range(yr_added, 2025)\n",
    "        res.append(\n",
    "            {\n",
    "                'word': row['Word'].lower(),\n",
    "                'year': yr_range,\n",
    "                'negative': 1,\n",
    "                'positive': 0\n",
    "            }\n",
    "        )\n",
    "    elif row['Negative'] == 0:\n",
    "        yr_added = row['Positive']\n",
    "        yr_range = range(yr_added, 2025)\n",
    "        res.append(\n",
    "            {\n",
    "                'word': row['Word'].lower(),\n",
    "                'year': yr_range,\n",
    "                'negative': 0,\n",
    "                'positive': 1\n",
    "            }\n",
    "        )\n",
    "res = pd.DataFrame(res)\n",
    "res = res.explode('year')\n",
    "res = res.loc[~((res['word'] == 'question') | (res['word'] == 'questions'))]\n",
    "pos_year = res[res['positive'] == 1].groupby('year')['word'].apply(set).to_dict()\n",
    "neg_year = res[res['negative'] == 1].groupby('year')['word'].apply(set).to_dict()"
   ],
   "id": "7505b5314406a475",
   "outputs": [
    {
     "data": {
      "text/plain": [
       "  0%|          | 0/2692 [00:00<?, ?it/s]"
      ],
      "application/vnd.jupyter.widget-view+json": {
       "version_major": 2,
       "version_minor": 0,
       "model_id": "1e172f9a0cbd410db4969499251fc4cf"
      }
     },
     "metadata": {},
     "output_type": "display_data"
    }
   ],
   "execution_count": 8
  },
  {
   "metadata": {
    "ExecuteTime": {
     "end_time": "2025-09-02T03:19:54.953320Z",
     "start_time": "2025-09-02T03:17:27.608428Z"
    }
   },
   "cell_type": "code",
   "source": [
    "component['pos_count'] = 0\n",
    "component['neg_count'] = 0\n",
    "\n",
    "for idx, row in tqdm(component.iterrows(), total=len(component)):\n",
    "    y = row['year']\n",
    "    words = row['words']\n",
    "\n",
    "    pos_words = pos_year.get(y, set())\n",
    "    neg_words = neg_year.get(y, set())\n",
    "\n",
    "    wc = Counter(words)\n",
    "\n",
    "    pos_count = sum(wc[w] for w in wc if w in pos_words)\n",
    "    neg_count = sum(wc[w] for w in wc if w in neg_words)\n",
    "\n",
    "    component.at[idx, 'pos_count'] = pos_count\n",
    "    component.at[idx, 'neg_count'] = neg_count\n",
    "\n",
    "component = component.drop(columns=['words'])\n",
    "component['sen_count'] = component['pos_count'] + component['neg_count']\n",
    "component['transcriptcomponenttype'] = np.where(\n",
    "    component['transcriptcomponenttypeid'] == 3,\n",
    "    'analyst',\n",
    "    'manager'\n",
    ")\n",
    "component = component.drop(columns=['transcriptcomponenttypeid', 'componenttext'])"
   ],
   "id": "a96e88d75fdfc451",
   "outputs": [
    {
     "data": {
      "text/plain": [
       "  0%|          | 0/607954 [00:00<?, ?it/s]"
      ],
      "application/vnd.jupyter.widget-view+json": {
       "version_major": 2,
       "version_minor": 0,
       "model_id": "c4196a2fb9314f7fa9d6949af5928711"
      }
     },
     "metadata": {},
     "output_type": "display_data"
    }
   ],
   "execution_count": 9
  },
  {
   "metadata": {
    "ExecuteTime": {
     "end_time": "2025-09-02T03:20:51.172763Z",
     "start_time": "2025-09-02T03:20:50.902239Z"
    }
   },
   "cell_type": "code",
   "source": [
    "tone = component.pivot(\n",
    "    index=['transcriptid', 'mostimportantdateest', 'companyid', 'year'],\n",
    "    columns='transcriptcomponenttype',\n",
    "    values=['pos_count', 'neg_count', 'sen_count']\n",
    ")\n",
    "tone.columns = [f\"{val}_{col}\" for val, col in tone.columns]\n",
    "tone = tone.reset_index()\n",
    "tone.loc[tone['sen_count_manager'] != 0, 'tone_manager'] = (tone['pos_count_manager'] - tone['neg_count_manager']) / tone['sen_count_manager']\n",
    "tone.loc[tone['sen_count_analyst'] != 0, 'tone_analyst'] = (tone['pos_count_analyst'] - tone['neg_count_analyst']) / tone['sen_count_analyst']"
   ],
   "id": "8baf3375b1b2e58b",
   "outputs": [],
   "execution_count": 16
  },
  {
   "metadata": {
    "ExecuteTime": {
     "end_time": "2025-08-28T17:33:22.205487Z",
     "start_time": "2025-08-28T17:33:21.990190Z"
    }
   },
   "cell_type": "code",
   "source": "tone[['transcriptid', 'tone_analyst', 'tone_manager']].to_pickle('./tone.pkl', compression='zip')",
   "id": "aa7487c393674613",
   "outputs": [],
   "execution_count": 9
  }
 ],
 "metadata": {
  "kernelspec": {
   "display_name": "Python 3",
   "language": "python",
   "name": "python3"
  },
  "language_info": {
   "codemirror_mode": {
    "name": "ipython",
    "version": 2
   },
   "file_extension": ".py",
   "mimetype": "text/x-python",
   "name": "python",
   "nbconvert_exporter": "python",
   "pygments_lexer": "ipython2",
   "version": "2.7.6"
  }
 },
 "nbformat": 4,
 "nbformat_minor": 5
}
